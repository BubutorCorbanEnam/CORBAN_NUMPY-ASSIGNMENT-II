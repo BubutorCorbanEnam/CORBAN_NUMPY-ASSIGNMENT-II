{
 "cells": [
  {
   "cell_type": "markdown",
   "id": "b271fae9",
   "metadata": {},
   "source": [
    "# Question 1\n",
    "\n",
    "#### 1. Write a NumPy program to create a vector of length 5 filled with arbitrary integers from 0 to 10."
   ]
  },
  {
   "cell_type": "code",
   "execution_count": 2,
   "id": "ed4c9ab5",
   "metadata": {},
   "outputs": [],
   "source": [
    "import numpy as np"
   ]
  },
  {
   "cell_type": "code",
   "execution_count": 3,
   "id": "a997c1ba",
   "metadata": {},
   "outputs": [
    {
     "data": {
      "text/plain": [
       "array([7, 7, 4, 6, 7])"
      ]
     },
     "execution_count": 3,
     "metadata": {},
     "output_type": "execute_result"
    }
   ],
   "source": [
    "np.random.randint(0,11,5)"
   ]
  },
  {
   "cell_type": "markdown",
   "id": "9e6c06e9",
   "metadata": {},
   "source": [
    "# Question 2\n",
    "#### Write a NumPy program to create a vector with values ​​ranging from 15 to 55 and print all values​​except the first and last."
   ]
  },
  {
   "cell_type": "code",
   "execution_count": 13,
   "id": "a25ba2ed",
   "metadata": {},
   "outputs": [
    {
     "data": {
      "text/plain": [
       "array([16, 17, 18, 19, 20, 21, 22, 23, 24, 25, 26, 27, 28, 29, 30, 31, 32,\n",
       "       33, 34, 35, 36, 37, 38, 39, 40, 41, 42, 43, 44, 45, 46, 47, 48, 49,\n",
       "       50, 51, 52, 53, 54])"
      ]
     },
     "execution_count": 13,
     "metadata": {},
     "output_type": "execute_result"
    }
   ],
   "source": [
    "A=np.arange(15,56)\n",
    "A[1:-1]"
   ]
  },
  {
   "cell_type": "markdown",
   "id": "1beaab22",
   "metadata": {},
   "source": [
    "# Question 3\n",
    "#### Write a NumPy program to create a random array with 1000 elements and compute the average, variance, standard deviation of the array elements."
   ]
  },
  {
   "cell_type": "code",
   "execution_count": 17,
   "id": "d50165aa",
   "metadata": {},
   "outputs": [
    {
     "name": "stdout",
     "output_type": "stream",
     "text": [
      "Average of the array element:\n"
     ]
    },
    {
     "data": {
      "text/plain": [
       "-0.006294022677893941"
      ]
     },
     "execution_count": 17,
     "metadata": {},
     "output_type": "execute_result"
    }
   ],
   "source": [
    "x=np.random.randn(10000)\n",
    "print('Average of the array element:')\n",
    "x.mean()"
   ]
  },
  {
   "cell_type": "code",
   "execution_count": 18,
   "id": "9b63f944",
   "metadata": {},
   "outputs": [
    {
     "name": "stdout",
     "output_type": "stream",
     "text": [
      "Variance of the array element:\n"
     ]
    },
    {
     "data": {
      "text/plain": [
       "0.9842725949802763"
      ]
     },
     "execution_count": 18,
     "metadata": {},
     "output_type": "execute_result"
    }
   ],
   "source": [
    "print('Variance of the array element:')\n",
    "x.var()"
   ]
  },
  {
   "cell_type": "code",
   "execution_count": 19,
   "id": "ca41e939",
   "metadata": {},
   "outputs": [
    {
     "name": "stdout",
     "output_type": "stream",
     "text": [
      "standard deviation of the array element:\n"
     ]
    },
    {
     "data": {
      "text/plain": [
       "0.9921051330278845"
      ]
     },
     "execution_count": 19,
     "metadata": {},
     "output_type": "execute_result"
    }
   ],
   "source": [
    "print('standard deviation of the array element:')\n",
    "x.std()"
   ]
  },
  {
   "cell_type": "markdown",
   "id": "c9804d53",
   "metadata": {},
   "source": [
    "# Question 4\n",
    "#### Write a NumPy program to calculate cumulative sum of the elements along a given axis, sum over rows for each of the 3 columns and sum over columns for each of the 2 rows of a given 3x3 array"
   ]
  },
  {
   "cell_type": "code",
   "execution_count": 22,
   "id": "ae44f074",
   "metadata": {},
   "outputs": [
    {
     "name": "stdout",
     "output_type": "stream",
     "text": [
      "Original array\n",
      "[[1 2 3]\n",
      " [4 5 6]]\n",
      "Cumulative sum of elements along a given axis:\n",
      "[ 1  3  6 10 15 21]\n",
      "\n",
      "Sum over rows for each oof the 3 columns:\n",
      "[[1 2 3]\n",
      " [5 7 9]]\n",
      "\n",
      "Sum over columns for each of the 2 rows:\n",
      "[[ 1  3  6]\n",
      " [ 4  9 15]]\n"
     ]
    }
   ],
   "source": [
    "z=np.array([[1,2,3],[4,5,6]])\n",
    "print('Original array')\n",
    "print(z)\n",
    "print('Cumulative sum of elements along a given axis:')\n",
    "x=np.cumsum(z)\n",
    "print(x)\n",
    "print('\\nSum over rows for each oof the 3 columns:')\n",
    "x=np.cumsum(z,axis=0)\n",
    "print(x)\n",
    "print ('\\nSum over columns for each of the 2 rows:')\n",
    "x=np.cumsum(z,axis=1)\n",
    "print(x)"
   ]
  },
  {
   "cell_type": "markdown",
   "id": "687409c6",
   "metadata": {},
   "source": [
    "# Question 5\n",
    "#### Write a NumPy program to compute the multiplication of two given matrixes. Sample Matrix: \n",
    "\n",
    "[[1, 0], [0, 1]] \n",
    "\n",
    "[[1, 2], [3, 4]]"
   ]
  },
  {
   "cell_type": "code",
   "execution_count": 23,
   "id": "12e87fd7",
   "metadata": {},
   "outputs": [
    {
     "name": "stdout",
     "output_type": "stream",
     "text": [
      "Original Matrix:\n",
      "[[1, 0], [0, 1]]\n",
      "[[1, 2], [3, 4]]\n",
      "multiplication result\n",
      "[[1 2]\n",
      " [3 4]]\n"
     ]
    }
   ],
   "source": [
    "a=[[1,0],[0,1]]\n",
    "b=[[1,2],[3,4]]\n",
    "print('Original Matrix:')\n",
    "print(a)\n",
    "print(b)\n",
    "d=np.dot(a,b)\n",
    "print('multiplication result') \n",
    "print(d)"
   ]
  },
  {
   "cell_type": "code",
   "execution_count": null,
   "id": "0681544b",
   "metadata": {},
   "outputs": [],
   "source": []
  }
 ],
 "metadata": {
  "kernelspec": {
   "display_name": "Python 3 (ipykernel)",
   "language": "python",
   "name": "python3"
  },
  "language_info": {
   "codemirror_mode": {
    "name": "ipython",
    "version": 3
   },
   "file_extension": ".py",
   "mimetype": "text/x-python",
   "name": "python",
   "nbconvert_exporter": "python",
   "pygments_lexer": "ipython3",
   "version": "3.9.7"
  }
 },
 "nbformat": 4,
 "nbformat_minor": 5
}
